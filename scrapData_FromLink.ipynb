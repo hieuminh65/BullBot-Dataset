{
 "cells": [
  {
   "cell_type": "code",
   "execution_count": 24,
   "metadata": {},
   "outputs": [],
   "source": [
    "import pickle\n",
    "\n",
    "with open(\"urls.pkl\", \"rb\") as f:\n",
    "    urls = pickle.load(f)"
   ]
  },
  {
   "cell_type": "code",
   "execution_count": 25,
   "metadata": {},
   "outputs": [
    {
     "data": {
      "text/plain": [
       "4547"
      ]
     },
     "execution_count": 25,
     "metadata": {},
     "output_type": "execute_result"
    }
   ],
   "source": [
    "len(urls)"
   ]
  },
  {
   "cell_type": "code",
   "execution_count": 26,
   "metadata": {},
   "outputs": [],
   "source": [
    "# fixes a bug with asyncio and jupyter\n",
    "import nest_asyncio\n",
    "\n",
    "nest_asyncio.apply()"
   ]
  },
  {
   "cell_type": "code",
   "execution_count": 27,
   "metadata": {},
   "outputs": [],
   "source": [
    "from langchain.document_loaders import WebBaseLoader"
   ]
  },
  {
   "cell_type": "code",
   "execution_count": 28,
   "metadata": {},
   "outputs": [
    {
     "data": {
      "text/plain": [
       "4547"
      ]
     },
     "execution_count": 28,
     "metadata": {},
     "output_type": "execute_result"
    }
   ],
   "source": [
    "len(urls)"
   ]
  },
  {
   "cell_type": "code",
   "execution_count": 29,
   "metadata": {},
   "outputs": [],
   "source": [
    "error_link = [\n",
    "    'http://ugs.usf.edu/articulation-agreements/',\n",
    "    'http://eds.b.ebscohost.com/eds/'\n",
    "]"
   ]
  },
  {
   "cell_type": "code",
   "execution_count": 30,
   "metadata": {},
   "outputs": [
    {
     "name": "stderr",
     "output_type": "stream",
     "text": [
      "Fetching pages:  31%|###       | 1584/5128 [20:10<45:08,  1.31it/s]"
     ]
    },
    {
     "name": "stderr",
     "output_type": "stream",
     "text": [
      "\n",
      "Fetching pages:   3%|2         | 124/4547 [00:36<13:42,  5.38it/s]Error fetching https://www.usf.edu/about-usf/documents/economic-impact-key-findings.pdf, skipping due to continue_on_failure=True\n",
      "Fetching pages:   3%|3         | 147/4547 [00:43<20:11,  3.63it/s]Error fetching https://health.usf.edu/-/media/Files/Care/ASR-USF-Downtown-2019.ashx, skipping due to continue_on_failure=True\n",
      "Fetching pages:   4%|4         | 184/4547 [00:47<10:50,  6.71it/s]Error fetching https://www.usf.edu/administrative-services/parking/documents/visitormap.pdf, skipping due to continue_on_failure=True\n",
      "Fetching pages:   5%|4         | 223/4547 [00:57<14:03,  5.12it/s]Error fetching http://eds.b.ebscohost.com/eds/results?vid=0&sdb=edspub&tid=3000EP%20&bquery=JN+B*+OR+JN+THE+B*+OR+JN+DER+B*+OR+JN+DIE+B*+OR+JN+DAS+B*+OR+JN+LAS+B*+OR+JN+LOS+B*+OR+JN+LES+B*+OR+JN+EL+B*+OR+JN+IL+B*+OR+JN+LA+B*+OR+JN+LE+B*&bdata=JmRiPWVkc3B1YiZ0eXBlPTEmc2l0ZT1lZHMtbGl2ZQ%3d%3d with attempt 2/3: Cannot connect to host eds.b.ebscohost.com:80 ssl:default [Connect call failed ('140.234.254.36', 80)]. Retrying...\n",
      "Error fetching http://eds.b.ebscohost.com/eds/results?vid=0&sdb=edspub&tid=3000EP%20&bquery=JN+C*+OR+JN+THE+C*+OR+JN+DER+C*+OR+JN+DIE+C*+OR+JN+DAS+C*+OR+JN+LAS+C*+OR+JN+LOS+C*+OR+JN+LES+C*+OR+JN+EL+C*+OR+JN+IL+C*+OR+JN+LA+C*+OR+JN+LE+C*&bdata=JmRiPWVkc3B1YiZ0eXBlPTEmc2l0ZT1lZHMtbGl2ZQ%3d%3d with attempt 2/3: Cannot connect to host eds.b.ebscohost.com:80 ssl:default [Connect call failed ('140.234.254.36', 80)]. Retrying...\n",
      "Fetching pages:  10%|9         | 448/4547 [01:30<13:34,  5.03it/s]Error fetching https://www.usf.edu/ods/documents/system-facts/usf-system-facts-2019-20.pdf, skipping due to continue_on_failure=True\n",
      "Fetching pages:  11%|#         | 497/4547 [02:00<59:54,  1.13it/s]  Error fetching https://health.usf.edu/-/media/3573942FF8E04B5F8B3FB4BF956BBC31.ashx, skipping due to continue_on_failure=True\n",
      "Fetching pages:  14%|#3        | 636/4547 [02:25<08:19,  7.83it/s]Error fetching https://www.usf.edu/research-innovation/sr/documents/sr-fact-sheet.pdf, skipping due to continue_on_failure=True\n",
      "Error fetching https://www.usf.edu/research-innovation/documents/new-faculty-orientation-2023.pdf, skipping due to continue_on_failure=True\n",
      "Error fetching https://reports.research.usf.edu/Content/pdfs/FY%202022%20Annual%20Report.pdf, skipping due to continue_on_failure=True\n",
      "Fetching pages:  16%|#5        | 727/4547 [02:40<08:49,  7.22it/s]Error fetching https://www.aau.edu/sites/default/files/AAU-Images/AAU-By-The-Numbers/2022/Economic-Impact-Page.pdf, skipping due to continue_on_failure=True\n",
      "Fetching pages:  17%|#6        | 759/4547 [03:08<41:49,  1.51it/s]  Error fetching https://fwrj.com/techarticles/0920%20t3.pdf, skipping due to continue_on_failure=True\n",
      "Fetching pages:  18%|#7        | 806/4547 [03:20<15:11,  4.11it/s]Error fetching https://cse.usf.edu/~sriramc/MBC_MobiQ_18.pdf, skipping due to continue_on_failure=True\n",
      "Fetching pages:  18%|#8        | 839/4547 [03:29<13:59,  4.42it/s]Error fetching http://eds.b.ebscohost.com/eds/results?vid=0&sdb=edspub&tid=3000EP%20&bquery=JN+B*+OR+JN+THE+B*+OR+JN+DER+B*+OR+JN+DIE+B*+OR+JN+DAS+B*+OR+JN+LAS+B*+OR+JN+LOS+B*+OR+JN+LES+B*+OR+JN+EL+B*+OR+JN+IL+B*+OR+JN+LA+B*+OR+JN+LE+B*&bdata=JmRiPWVkc3B1YiZ0eXBlPTEmc2l0ZT1lZHMtbGl2ZQ%3d%3d, skipping due to continue_on_failure=True\n",
      "Error fetching http://eds.b.ebscohost.com/eds/results?vid=0&sdb=edspub&tid=3000EP%20&bquery=JN+C*+OR+JN+THE+C*+OR+JN+DER+C*+OR+JN+DIE+C*+OR+JN+DAS+C*+OR+JN+LAS+C*+OR+JN+LOS+C*+OR+JN+LES+C*+OR+JN+EL+C*+OR+JN+IL+C*+OR+JN+LA+C*+OR+JN+LE+C*&bdata=JmRiPWVkc3B1YiZ0eXBlPTEmc2l0ZT1lZHMtbGl2ZQ%3d%3d, skipping due to continue_on_failure=True\n",
      "Fetching pages:  19%|#8        | 845/4547 [03:30<13:37,  4.53it/s]Error fetching https://www.usf.edu/space/documents/final-exam-matrix.pdf, skipping due to continue_on_failure=True\n",
      "Fetching pages:  30%|###       | 1366/4547 [05:59<15:56,  3.33it/s] Error fetching https://usfweb2.usf.edu/human-resources/index.asp with attempt 1/3: Cannot connect to host usfweb2.usf.edu:443 ssl:default [Connect call failed ('131.247.89.124', 443)]. Retrying...\n",
      "Error fetching http://eds.b.ebscohost.com/eds/results?vid=0&sdb=edspub&tid=3000EP%20&bquery=JN+E*+OR+JN+THE+E*+OR+JN+DER+E*+OR+JN+DIE+E*+OR+JN+DAS+E*+OR+JN+LAS+E*+OR+JN+LOS+E*+OR+JN+LES+E*+OR+JN+EL+E*+OR+JN+IL+E*+OR+JN+LA+E*+OR+JN+LE+E*&bdata=JmRiPWVkc3B1YiZ0eXBlPTEmc2l0ZT1lZHMtbGl2ZQ%3d%3d with attempt 1/3: Cannot connect to host eds.b.ebscohost.com:80 ssl:default [Connect call failed ('140.234.252.36', 80)]. Retrying...\n",
      "Error fetching http://eds.b.ebscohost.com/eds/results?vid=0&sdb=edspub&tid=3000EP%20&bquery=JN+D*+OR+JN+THE+D*+OR+JN+DER+D*+OR+JN+DIE+D*+OR+JN+DAS+D*+OR+JN+LAS+D*+OR+JN+LOS+D*+OR+JN+LES+D*+OR+JN+EL+D*+OR+JN+IL+D*+OR+JN+LA+D*+OR+JN+LE+D*&bdata=JmRiPWVkc3B1YiZ0eXBlPTEmc2l0ZT1lZHMtbGl2ZQ%3d%3d with attempt 1/3: Cannot connect to host eds.b.ebscohost.com:80 ssl:default [Connect call failed ('140.234.252.36', 80)]. Retrying...\n",
      "Fetching pages:  30%|###       | 1371/4547 [06:00<15:47,  3.35it/s]Error fetching https://usfweb2.usf.edu/human-resources/index.asp with attempt 2/3: Cannot connect to host usfweb2.usf.edu:443 ssl:default [Connect call failed ('131.247.89.124', 443)]. Retrying...\n",
      "Fetching pages:  30%|###       | 1385/4547 [06:04<14:22,  3.66it/s]Error fetching https://usfweb2.usf.edu/human-resources/index.asp, skipping due to continue_on_failure=True\n",
      "Fetching pages:  34%|###4      | 1567/4547 [06:29<07:14,  6.86it/s]Error fetching https://www.stpetersburg.usf.edu/about/visit/documents/usf-st-petersburg-campus-map.pdf, skipping due to continue_on_failure=True\n",
      "Fetching pages:  36%|###6      | 1640/4547 [06:38<05:43,  8.46it/s]Error fetching https://www.stpetersburg.usf.edu/academics/academic-resources/academic-advising/documents/virtual-advising-student-version.pdf, skipping due to continue_on_failure=True\n",
      "Fetching pages:  37%|###6      | 1673/4547 [06:44<08:38,  5.54it/s]Error fetching https://lib.stpetersburg.usf.edu/briggscoloringbook, skipping due to continue_on_failure=True\n",
      "Fetching pages:  37%|###7      | 1687/4547 [06:46<08:37,  5.53it/s]Error fetching https://lib.stpetersburg.usf.edu/ld.php?content_id=56260405, skipping due to continue_on_failure=True\n",
      "Fetching pages:  37%|###7      | 1702/4547 [07:05<08:26,  5.62it/s]Error fetching https://digital.lib.usf.edu/skip-gandy with attempt 1/3: Cannot connect to host digital.lib.usf.edu:443 ssl:default [Connect call failed ('131.247.112.53', 443)]. Retrying...\n",
      "Error fetching https://digital.lib.usf.edu/ROBERTSONANDFRESH/ with attempt 1/3: Cannot connect to host digital.lib.usf.edu:443 ssl:default [Connect call failed ('131.247.112.53', 443)]. Retrying...\n",
      "Error fetching http://eds.b.ebscohost.com/eds/results?vid=0&sdb=edspub&tid=3000EP%20&bquery=JN+E*+OR+JN+THE+E*+OR+JN+DER+E*+OR+JN+DIE+E*+OR+JN+DAS+E*+OR+JN+LAS+E*+OR+JN+LOS+E*+OR+JN+LES+E*+OR+JN+EL+E*+OR+JN+IL+E*+OR+JN+LA+E*+OR+JN+LE+E*&bdata=JmRiPWVkc3B1YiZ0eXBlPTEmc2l0ZT1lZHMtbGl2ZQ%3d%3d with attempt 2/3: Cannot connect to host eds.b.ebscohost.com:80 ssl:default [Connect call failed ('140.234.252.36', 80)]. Retrying...\n",
      "Error fetching http://eds.b.ebscohost.com/eds/results?vid=0&sdb=edspub&tid=3000EP%20&bquery=JN+D*+OR+JN+THE+D*+OR+JN+DER+D*+OR+JN+DIE+D*+OR+JN+DAS+D*+OR+JN+LAS+D*+OR+JN+LOS+D*+OR+JN+LES+D*+OR+JN+EL+D*+OR+JN+IL+D*+OR+JN+LA+D*+OR+JN+LE+D*&bdata=JmRiPWVkc3B1YiZ0eXBlPTEmc2l0ZT1lZHMtbGl2ZQ%3d%3d with attempt 2/3: Cannot connect to host eds.b.ebscohost.com:80 ssl:default [Connect call failed ('140.234.252.36', 80)]. Retrying...\n",
      "Error fetching https://digital.lib.usf.edu/skip-gandy with attempt 2/3: Cannot connect to host digital.lib.usf.edu:443 ssl:default [Connect call failed ('131.247.112.53', 443)]. Retrying...\n",
      "Error fetching https://digital.lib.usf.edu/ROBERTSONANDFRESH/ with attempt 2/3: Cannot connect to host digital.lib.usf.edu:443 ssl:default [Connect call failed ('131.247.112.53', 443)]. Retrying...\n",
      "Error fetching https://digital.lib.usf.edu/skip-gandy, skipping due to continue_on_failure=True\n",
      "Fetching pages:  38%|###7      | 1706/4547 [10:39<8:30:17, 10.78s/it]Error fetching https://digital.lib.usf.edu/ROBERTSONANDFRESH/, skipping due to continue_on_failure=True\n",
      "Error fetching https://www.stpetersburg.usf.edualumni with attempt 1/3: Cannot connect to host www.stpetersburg.usf.edualumni:443 ssl:default [nodename nor servname provided, or not known]. Retrying...\n",
      "Fetching pages:  38%|###7      | 1712/4547 [10:40<6:07:17,  7.77s/it]Error fetching https://www.stpetersburg.usf.edualumni with attempt 2/3: Cannot connect to host www.stpetersburg.usf.edualumni:443 ssl:default [nodename nor servname provided, or not known]. Retrying...\n",
      "Fetching pages:  38%|###8      | 1729/4547 [10:45<2:24:26,  3.08s/it]Error fetching https://www.stpetersburg.usf.edualumni, skipping due to continue_on_failure=True\n",
      "Fetching pages:  39%|###9      | 1787/4547 [10:52<15:44,  2.92it/s]  Error fetching https://www.stpetersburg.usf.edu/student-life/housing/documents/resident-handbook-august-3-2021.pdf, skipping due to continue_on_failure=True\n",
      "Fetching pages:  39%|###9      | 1796/4547 [10:53<13:48,  3.32it/s]Error fetching https://www.usf.edu/administrative-services/emergency-management/documents/hurricane-guide.pdf, skipping due to continue_on_failure=True\n",
      "Fetching pages:  40%|####      | 1822/4547 [10:59<09:45,  4.66it/s]Error fetching https://www.stpetersburg.usf.edu/student-life/facilities/campus-rec/documents/usf-sp-campus-rec-policies-spring-2019.pdf, skipping due to continue_on_failure=True\n",
      "Fetching pages:  41%|####      | 1852/4547 [11:05<08:30,  5.28it/s]Error fetching http://eds.b.ebscohost.com/eds/results?vid=0&sdb=edspub&tid=3000EP%20&bquery=JN+D*+OR+JN+THE+D*+OR+JN+DER+D*+OR+JN+DIE+D*+OR+JN+DAS+D*+OR+JN+LAS+D*+OR+JN+LOS+D*+OR+JN+LES+D*+OR+JN+EL+D*+OR+JN+IL+D*+OR+JN+LA+D*+OR+JN+LE+D*&bdata=JmRiPWVkc3B1YiZ0eXBlPTEmc2l0ZT1lZHMtbGl2ZQ%3d%3d, skipping due to continue_on_failure=True\n",
      "Error fetching http://eds.b.ebscohost.com/eds/results?vid=0&sdb=edspub&tid=3000EP%20&bquery=JN+E*+OR+JN+THE+E*+OR+JN+DER+E*+OR+JN+DIE+E*+OR+JN+DAS+E*+OR+JN+LAS+E*+OR+JN+LOS+E*+OR+JN+LES+E*+OR+JN+EL+E*+OR+JN+IL+E*+OR+JN+LA+E*+OR+JN+LE+E*&bdata=JmRiPWVkc3B1YiZ0eXBlPTEmc2l0ZT1lZHMtbGl2ZQ%3d%3d, skipping due to continue_on_failure=True\n",
      "Fetching pages:  42%|####1     | 1898/4547 [11:10<05:47,  7.62it/s]Error fetching https://www.stpetersburg.usf.edu/student-life/career-center/documents/slc-access-map.pdf, skipping due to continue_on_failure=True\n",
      "Fetching pages:  43%|####2     | 1940/4547 [11:16<05:35,  7.77it/s]Error fetching https://www.stpetersburg.usf.edu/student-life/compass/documents/studentincrisis.pdf, skipping due to continue_on_failure=True\n",
      "Fetching pages:  43%|####2     | 1948/4547 [11:17<05:53,  7.36it/s]Error fetching https://outlook.office365.com/owa/calendar/USFSPFinancialAid@usfedu.onmicrosoft.com/bookings/, skipping due to continue_on_failure=True\n",
      "Fetching pages:  43%|####3     | 1972/4547 [11:21<06:17,  6.82it/s]Error fetching https://www.stpetersburg.usf.edu/student-life/student-life/documents/public_record_request_form.pdf, skipping due to continue_on_failure=True\n",
      "Error fetching https://www.stpetersburg.usf.edu/student-life/student-life/documents/investigation-request-form.pdf, skipping due to continue_on_failure=True\n",
      "Fetching pages:  47%|####7     | 2158/4547 [11:50<05:40,  7.01it/s]Error fetching https://www.usf.edu/education/documents/umatter/umatter-digital-brochure.pdf, skipping due to continue_on_failure=True\n",
      "Fetching pages:  48%|####8     | 2183/4547 [11:56<06:38,  5.93it/s]Error fetching https://www.stpetersburg.usf.edu/images/student-services/orientation/ol2.jpg, skipping due to continue_on_failure=True\n",
      "Fetching pages:  50%|#####     | 2282/4547 [12:16<12:17,  3.07it/s]Error fetching https://364394.fs1.hubspotusercontent-na1.net/hubfs/364394/campaigns/admissions/publications/tampa-bay-visitor-guide.pdf, skipping due to continue_on_failure=True\n",
      "Fetching pages:  51%|#####     | 2304/4547 [12:21<09:10,  4.08it/s]Error fetching https://www.bullsradio.org/ with attempt 1/3: Cannot connect to host www.bullsradio.org:443 ssl:True [SSLCertVerificationError: (1, \"[SSL: CERTIFICATE_VERIFY_FAILED] certificate verify failed: Hostname mismatch, certificate is not valid for 'www.bullsradio.org'. (_ssl.c:1129)\")]. Retrying...\n",
      "Fetching pages:  51%|#####     | 2309/4547 [12:22<09:53,  3.77it/s]Error fetching https://www.bullsradio.org/ with attempt 2/3: Cannot connect to host www.bullsradio.org:443 ssl:True [SSLCertVerificationError: (1, \"[SSL: CERTIFICATE_VERIFY_FAILED] certificate verify failed: Hostname mismatch, certificate is not valid for 'www.bullsradio.org'. (_ssl.c:1129)\")]. Retrying...\n",
      "Fetching pages:  51%|#####     | 2318/4547 [12:26<12:42,  2.92it/s]Error fetching https://www.bullsradio.org/, skipping due to continue_on_failure=True\n",
      "Fetching pages:  53%|#####2    | 2398/4547 [12:39<05:25,  6.60it/s]Error fetching https://sacscoc.org/app/uploads/2023/07/Web-Accredited-and-Candidate-List.pdf, skipping due to continue_on_failure=True\n",
      "Error fetching https://www.sacscoc.org/app/uploads/2020/01/CommonNamesxrefGuide.pdf, skipping due to continue_on_failure=True\n",
      "Error fetching https://www.sacscoc.org/app/uploads/2020/01/InstitutionsNameChangeCrossReferenceList.pdf, skipping due to continue_on_failure=True\n",
      "Fetching pages:  53%|#####2    | 2405/4547 [12:40<05:42,  6.25it/s]Error fetching https://www.sacscoc.org/app/uploads/2020/10/Index-of-SACSCOC-Documents.pdf, skipping due to continue_on_failure=True\n",
      "Fetching pages:  53%|#####3    | 2418/4547 [12:42<06:16,  5.65it/s]Error fetching https://www.sacscoc.org/app/uploads/2020/02/pub-order-form.pdf, skipping due to continue_on_failure=True\n",
      "Fetching pages:  54%|#####3    | 2449/4547 [12:49<06:49,  5.13it/s]Error fetching https://sacscoc.org/app/uploads/2023/06/Mar-27-Annual-Report-Layout-Pages-small.pdf, skipping due to continue_on_failure=True\n",
      "Fetching pages:  54%|#####4    | 2467/4547 [12:54<07:46,  4.46it/s]Error fetching https://content.usf.edu/10?skin=oucampus&account=USFMainPROD&site=sarasotamanatee_usf_edu&action=de&path=/about/visit-campus.pcf with attempt 1/3: Cannot connect to host content.usf.edu:443 ssl:True [SSLCertVerificationError: (1, '[SSL: CERTIFICATE_VERIFY_FAILED] certificate verify failed: certificate has expired (_ssl.c:1129)')]. Retrying...\n",
      "Fetching pages:  54%|#####4    | 2473/4547 [12:55<07:24,  4.66it/s]Error fetching https://content.usf.edu/10?skin=oucampus&account=USFMainPROD&site=sarasotamanatee_usf_edu&action=de&path=/about/visit-campus.pcf with attempt 2/3: Cannot connect to host content.usf.edu:443 ssl:True [SSLCertVerificationError: (1, '[SSL: CERTIFICATE_VERIFY_FAILED] certificate verify failed: certificate has expired (_ssl.c:1129)')]. Retrying...\n",
      "Fetching pages:  55%|#####4    | 2483/4547 [12:59<10:46,  3.19it/s]Error fetching https://content.usf.edu/10?skin=oucampus&account=USFMainPROD&site=sarasotamanatee_usf_edu&action=de&path=/about/visit-campus.pcf, skipping due to continue_on_failure=True\n",
      "Fetching pages:  59%|#####8    | 2673/4547 [13:33<05:10,  6.03it/s]Error fetching http://eds.b.ebscohost.com/eds/results?vid=0&sdb=edspub&tid=3000EP%20&bquery=JN+G*+OR+JN+THE+G*+OR+JN+DER+G*+OR+JN+DIE+G*+OR+JN+DAS+G*+OR+JN+LAS+G*+OR+JN+LOS+G*+OR+JN+LES+G*+OR+JN+EL+G*+OR+JN+IL+G*+OR+JN+LA+G*+OR+JN+LE+G*&bdata=JmRiPWVkc3B1YiZ0eXBlPTEmc2l0ZT1lZHMtbGl2ZQ%3d%3d with attempt 1/3: Cannot connect to host eds.b.ebscohost.com:80 ssl:default [Connect call failed ('140.234.252.36', 80)]. Retrying...\n",
      "Error fetching http://eds.b.ebscohost.com/eds/results?vid=0&sdb=edspub&tid=3000EP%20&bquery=JN+F*+OR+JN+THE+F*+OR+JN+DER+F*+OR+JN+DIE+F*+OR+JN+DAS+F*+OR+JN+LAS+F*+OR+JN+LOS+F*+OR+JN+LES+F*+OR+JN+EL+F*+OR+JN+IL+F*+OR+JN+LA+F*+OR+JN+LE+F*&bdata=JmRiPWVkc3B1YiZ0eXBlPTEmc2l0ZT1lZHMtbGl2ZQ%3d%3d with attempt 1/3: Cannot connect to host eds.b.ebscohost.com:80 ssl:default [Connect call failed ('140.234.252.36', 80)]. Retrying...\n",
      "Fetching pages:  61%|######1   | 2774/4547 [13:50<07:41,  3.84it/s]Error fetching https://364394.fs1.hubspotusercontent-na1.net/hubfs/364394/campaigns/admissions/publications/sarasota-manatee-campus-parking-map.pdf, skipping due to continue_on_failure=True\n",
      "Fetching pages:  62%|######1   | 2812/4547 [13:57<05:05,  5.67it/s]Error fetching https://www.usfsp.edu/campus-recreation/ with attempt 1/3: Cannot connect to host www.usfsp.edu:443 ssl:True [SSLCertVerificationError: (1, '[SSL: CERTIFICATE_VERIFY_FAILED] certificate verify failed: certificate has expired (_ssl.c:1129)')]. Retrying...\n",
      "Fetching pages:  62%|######1   | 2819/4547 [13:58<04:55,  5.85it/s]Error fetching https://www.usfsp.edu/campus-recreation/ with attempt 2/3: Cannot connect to host www.usfsp.edu:443 ssl:True [SSLCertVerificationError: (1, '[SSL: CERTIFICATE_VERIFY_FAILED] certificate verify failed: certificate has expired (_ssl.c:1129)')]. Retrying...\n",
      "Fetching pages:  62%|######2   | 2832/4547 [14:02<06:29,  4.41it/s]Error fetching https://www.usfsp.edu/campus-recreation/, skipping due to continue_on_failure=True\n",
      "Fetching pages:  67%|######6   | 3045/4547 [14:35<03:59,  6.28it/s]Error fetching https://www.usf.edu/student-affairs/multicultural-affairs/events/2017-hhmcalendar.pdf, skipping due to continue_on_failure=True\n",
      "Fetching pages:  67%|######7   | 3052/4547 [14:37<05:00,  4.98it/s]Error fetching https://www.usf.edu/student-affairs/multicultural-affairs/events/hhm-calendar-2016.pdf, skipping due to continue_on_failure=True\n",
      "Fetching pages:  68%|######7   | 3090/4547 [14:43<03:37,  6.69it/s]Error fetching https://smcampus.usf.edu/expertise/ with attempt 1/3: Cannot connect to host smcampus.usf.edu:443 ssl:True [SSLCertVerificationError: (1, '[SSL: CERTIFICATE_VERIFY_FAILED] certificate verify failed: self signed certificate (_ssl.c:1129)')]. Retrying...\n",
      "Fetching pages:  68%|######8   | 3097/4547 [14:44<03:41,  6.54it/s]Error fetching https://smcampus.usf.edu/expertise/ with attempt 2/3: Cannot connect to host smcampus.usf.edu:443 ssl:True [SSLCertVerificationError: (1, '[SSL: CERTIFICATE_VERIFY_FAILED] certificate verify failed: self signed certificate (_ssl.c:1129)')]. Retrying...\n",
      "Fetching pages:  68%|######8   | 3110/4547 [14:47<04:49,  4.97it/s]Error fetching https://smcampus.usf.edu/expertise/, skipping due to continue_on_failure=True\n",
      "Fetching pages:  69%|######9   | 3139/4547 [14:52<04:08,  5.66it/s]Error fetching https://www.usf.edu/provost/documents/posters-handouts/points-of-pride-web.pdf, skipping due to continue_on_failure=True\n",
      "Fetching pages:  69%|######9   | 3158/4547 [14:56<04:17,  5.39it/s]Error fetching https://www.aashe.org/wp-content/uploads/2022/09/SustainableCampusIndex-2022.pdf, skipping due to continue_on_failure=True\n",
      "Fetching pages:  70%|######9   | 3164/4547 [14:59<06:43,  3.43it/s]Error fetching https://www.usf.edu/compliance-ethics/eo-ada/documents/eo-report-form-20230802.pdf, skipping due to continue_on_failure=True\n",
      "Fetching pages:  70%|######9   | 3169/4547 [15:01<06:34,  3.50it/s]Error fetching https://www.usf.edu/student-affairs/student-conduct-ethical-development/documents/academic_disruption_incident_report_form.pdf, skipping due to continue_on_failure=True\n",
      "Fetching pages:  70%|#######   | 3202/4547 [15:08<04:05,  5.49it/s]Error fetching https://www.usf.edu/business-finance/resource-management-analysis/documents/operating-budget-23-24.pdf, skipping due to continue_on_failure=True\n",
      "Fetching pages:  71%|#######   | 3221/4547 [15:10<03:05,  7.16it/s]Error fetching https://www.usf.edu/president/documents/law-cv.pdf, skipping due to continue_on_failure=True\n",
      "Fetching pages:  71%|#######1  | 3229/4547 [15:12<03:49,  5.73it/s]Error fetching https://www.usf.edu/strategic-plan/documents/usf-strategic-plan-120721.pdf, skipping due to continue_on_failure=True\n",
      "Fetching pages:  73%|#######3  | 3323/4547 [15:38<03:36,  5.66it/s]Error fetching https://files.constantcontact.com/cee58900101/9cbac182-dbee-4d67-af10-1594789b77a5.pdf, skipping due to continue_on_failure=True\n",
      "Error fetching https://files.constantcontact.com/cee58900101/bc940389-461b-4c06-b0d0-d68193e4d842.pdf, skipping due to continue_on_failure=True\n",
      "Fetching pages:  73%|#######3  | 3330/4547 [15:40<03:37,  5.59it/s]Error fetching https://files.constantcontact.com/cee58900101/9ff93d96-d40f-4e3b-b2c6-cc6a48fca635.pdf, skipping due to continue_on_failure=True\n",
      "Error fetching https://files.constantcontact.com/cee58900101/6aeadd3b-ea64-4a3c-885f-e9540cd91d87.pdf, skipping due to continue_on_failure=True\n",
      "Fetching pages:  77%|#######7  | 3507/4547 [16:06<03:17,  5.27it/s]Error fetching http://eds.b.ebscohost.com/eds/results?vid=0&sdb=edspub&tid=3000EP%20&bquery=JN+G*+OR+JN+THE+G*+OR+JN+DER+G*+OR+JN+DIE+G*+OR+JN+DAS+G*+OR+JN+LAS+G*+OR+JN+LOS+G*+OR+JN+LES+G*+OR+JN+EL+G*+OR+JN+IL+G*+OR+JN+LA+G*+OR+JN+LE+G*&bdata=JmRiPWVkc3B1YiZ0eXBlPTEmc2l0ZT1lZHMtbGl2ZQ%3d%3d with attempt 2/3: Cannot connect to host eds.b.ebscohost.com:80 ssl:default [Connect call failed ('140.234.252.36', 80)]. Retrying...\n",
      "Error fetching http://eds.b.ebscohost.com/eds/results?vid=0&sdb=edspub&tid=3000EP%20&bquery=JN+F*+OR+JN+THE+F*+OR+JN+DER+F*+OR+JN+DIE+F*+OR+JN+DAS+F*+OR+JN+LAS+F*+OR+JN+LOS+F*+OR+JN+LES+F*+OR+JN+EL+F*+OR+JN+IL+F*+OR+JN+LA+F*+OR+JN+LE+F*&bdata=JmRiPWVkc3B1YiZ0eXBlPTEmc2l0ZT1lZHMtbGl2ZQ%3d%3d with attempt 2/3: Cannot connect to host eds.b.ebscohost.com:80 ssl:default [Connect call failed ('140.234.252.36', 80)]. Retrying...\n",
      "Fetching pages:  85%|########4 | 3849/4547 [17:05<02:13,  5.22it/s]Error fetching https://www.usf.edu/administrative-services/documents/org-chart-oas.pdf, skipping due to continue_on_failure=True\n",
      "Fetching pages:  86%|########5 | 3895/4547 [17:14<02:24,  4.53it/s]Error fetching https://avc.web.usf.edu/ with attempt 1/3: Cannot connect to host avc.web.usf.edu:443 ssl:True [SSLCertVerificationError: (1, '[SSL: CERTIFICATE_VERIFY_FAILED] certificate verify failed: unable to get local issuer certificate (_ssl.c:1129)')]. Retrying...\n",
      "Error fetching https://avc.web.usf.edu/ with attempt 2/3: Cannot connect to host avc.web.usf.edu:443 ssl:True [SSLCertVerificationError: (1, '[SSL: CERTIFICATE_VERIFY_FAILED] certificate verify failed: unable to get local issuer certificate (_ssl.c:1129)')]. Retrying...\n",
      "Fetching pages:  86%|########5 | 3909/4547 [17:20<03:02,  3.49it/s]Error fetching https://avc.web.usf.edu/, skipping due to continue_on_failure=True\n",
      "Fetching pages:  87%|########6 | 3948/4547 [17:41<07:17,  1.37it/s]Error fetching https://usf.campusdish.com/-/media/Local/Higher-Education/GroupC/SouthFlorida/Files/HowtoDineatChamps.ashx, skipping due to continue_on_failure=True\n",
      "Fetching pages:  87%|########7 | 3956/4547 [17:44<05:38,  1.75it/s]Error fetching https://usf.campusdish.com/-/media/Local/Higher-Education/GroupC/SouthFlorida/Images/Maps/Campus-Maps---Summer-2023---Both-Campuses---8x11.ashx, skipping due to continue_on_failure=True\n",
      "Fetching pages:  87%|########7 | 3961/4547 [17:46<05:00,  1.95it/s]Error fetching https://usf.campusdish.com/-/media/Local/Higher-Education/GroupC/SouthFlorida/Files/Terms-and-Conditions.ashx, skipping due to continue_on_failure=True\n",
      "Error fetching https://usf.campusdish.com/-/media/Local/Higher-Education/GroupC/SouthFlorida/Files/True-Balance-Digital-Brochure-Spring-2022-Tampa.ashx, skipping due to continue_on_failure=True\n",
      "Fetching pages:  87%|########7 | 3964/4547 [17:49<05:34,  1.74it/s]Error fetching https://usf.campusdish.com/-/media/Local/Higher-Education/GroupC/SouthFlorida/Files/Brochures/Made-without-Gluten-Brochure-2022---Spreads.ashx, skipping due to continue_on_failure=True\n",
      "Error fetching https://usf.campusdish.com/-/media/Local/Higher-Education/GroupC/SouthFlorida/Files/Vegan-Vegetarian-Brochure-2022---Spreads.ashx, skipping due to continue_on_failure=True\n",
      "Fetching pages:  87%|########7 | 3967/4547 [17:52<06:34,  1.47it/s]Error fetching https://usf.campusdish.com/-/media/Local/Higher-Education/GroupC/SouthFlorida/Files/ReadyForYou/Were-Ready-for-You---Banner.ashx, skipping due to continue_on_failure=True\n",
      "Error fetching https://usf.campusdish.com/-/media/Local/Higher-Education/GroupC/SouthFlorida/Files/ReadyForYou/Ready-for-You-Release.ashx, skipping due to continue_on_failure=True\n",
      "Fetching pages:  88%|########7 | 3996/4547 [18:00<03:00,  3.06it/s]Error fetching https://usf.campusdish.com/-/media/Local/Higher-Education/GroupC/SouthFlorida/Files/Meal-Plan-with-Dietary-Restrictions-updated-72821.ashx, skipping due to continue_on_failure=True\n",
      "Fetching pages:  88%|########8 | 4004/4547 [18:01<02:18,  3.93it/s]Error fetching https://usf.campusdish.com/-/media/Local/Higher-Education/GroupC/SouthFlorida/Files/Menus/nutrition-and-allergen/Made-without-Gluten-Brochure---4x10---Single-Pages.ashx, skipping due to continue_on_failure=True\n",
      "Error fetching https://usf.campusdish.com/-/media/Local/Higher-Education/GroupC/SouthFlorida/Files/Catering-Guides/CateringEventMenuBrochureFall2022.ashx, skipping due to continue_on_failure=True\n",
      "Error fetching https://usf.campusdish.com/-/media/Local/Higher-Education/GroupC/SouthFlorida/Files/Catering-Guides/USFCateringConnectBanner.ashx, skipping due to continue_on_failure=True\n",
      "Fetching pages:  88%|########8 | 4009/4547 [18:05<03:41,  2.43it/s]Error fetching https://usf.campusdish.com/-/media/Local/Higher-Education/GroupC/SouthFlorida/Files/Catering-Guides/OnCampusBrandCateringGuide2022.ashx, skipping due to continue_on_failure=True\n",
      "Fetching pages:  89%|########9 | 4056/4547 [18:39<07:43,  1.06it/s]Error fetching http://eds.b.ebscohost.com/eds/results?vid=0&sdb=edspub&tid=3000EP%20&bquery=JN+G*+OR+JN+THE+G*+OR+JN+DER+G*+OR+JN+DIE+G*+OR+JN+DAS+G*+OR+JN+LAS+G*+OR+JN+LOS+G*+OR+JN+LES+G*+OR+JN+EL+G*+OR+JN+IL+G*+OR+JN+LA+G*+OR+JN+LE+G*&bdata=JmRiPWVkc3B1YiZ0eXBlPTEmc2l0ZT1lZHMtbGl2ZQ%3d%3d, skipping due to continue_on_failure=True\n",
      "Error fetching http://eds.b.ebscohost.com/eds/results?vid=0&sdb=edspub&tid=3000EP%20&bquery=JN+F*+OR+JN+THE+F*+OR+JN+DER+F*+OR+JN+DIE+F*+OR+JN+DAS+F*+OR+JN+LAS+F*+OR+JN+LOS+F*+OR+JN+LES+F*+OR+JN+EL+F*+OR+JN+IL+F*+OR+JN+LA+F*+OR+JN+LE+F*&bdata=JmRiPWVkc3B1YiZ0eXBlPTEmc2l0ZT1lZHMtbGl2ZQ%3d%3d, skipping due to continue_on_failure=True\n",
      "Fetching pages:  90%|######### | 4098/4547 [19:24<06:08,  1.22it/s]Error fetching https://scontent-dfw5-2.cdninstagram.com/v/t51.2885-15/377986315_632699702265185_648639736069647517_n.jpg?_nc_cat=100&ccb=1-7&_nc_sid=8ae9d6&_nc_ohc=-NubKtxCME4AX8fJ042&_nc_ht=scontent-dfw5-2.cdninstagram.com&edm=AM6HXa8EAAAA&oh=00_AfCTQMZAIXHv-sSpCxWoRGNM-Wcswwx0v3gKxR3HdC_4Pw&oe=65125CC4, skipping due to continue_on_failure=True\n",
      "Fetching pages:  90%|######### | 4102/4547 [19:25<04:31,  1.64it/s]Error fetching https://scontent-dfw5-2.cdninstagram.com/v/t51.2885-15/378034964_640129634928154_8738499997412629820_n.jpg?_nc_cat=101&ccb=1-7&_nc_sid=8ae9d6&_nc_ohc=oGaDwQn5p_8AX9_iGDz&_nc_oc=AQkLgeQq5-rLF3y2dU-oI8MFfQA8rbCKGtnApVvILZ9OZhrzrEhtvvPdbj9HBg_yJj4&_nc_ht=scontent-dfw5-2.cdninstagram.com&edm=AM6HXa8EAAAA&oh=00_AfBNuUtN4xDCs5J7ihMJ4KdVxMHzi8D2pQMJfPhJtLTErA&oe=65118649, skipping due to continue_on_failure=True\n",
      "Error fetching https://scontent-dfw5-2.cdninstagram.com/v/t51.2885-15/377727726_1097026581278662_8166864609028026734_n.jpg?_nc_cat=106&ccb=1-7&_nc_sid=8ae9d6&_nc_ohc=Sh82zFtRXvMAX82zbWP&_nc_ht=scontent-dfw5-2.cdninstagram.com&edm=AM6HXa8EAAAA&oh=00_AfClDuH051CNIA4Xy9fvZB_YEoER2t7knn6GtiLtOQMWOQ&oe=65132F4A, skipping due to continue_on_failure=True\n",
      "Error fetching https://scontent-dfw5-2.cdninstagram.com/v/t51.2885-15/375226500_607455524885295_6145432319374465274_n.jpg?_nc_cat=102&ccb=1-7&_nc_sid=8ae9d6&_nc_ohc=nv8PzRffp1QAX_eNX6w&_nc_ht=scontent-dfw5-2.cdninstagram.com&edm=AM6HXa8EAAAA&oh=00_AfB_YY9y3hBXX15RHDSuAjIFcO2mTL9enNkE4gop70up7g&oe=6511D9F2, skipping due to continue_on_failure=True\n",
      "Error fetching https://scontent-dfw5-2.cdninstagram.com/v/t51.2885-15/374729325_859944028435881_734024227800292974_n.jpg?_nc_cat=103&ccb=1-7&_nc_sid=8ae9d6&_nc_ohc=DLuKd0QchcUAX-6Zppm&_nc_ht=scontent-dfw5-2.cdninstagram.com&edm=AM6HXa8EAAAA&oh=00_AfBuBAKFuW_NpR2Lyus1CG1X4HQyu65ya6DQw-WuHkDomg&oe=65127CC2, skipping due to continue_on_failure=True\n",
      "Fetching pages:  90%|######### | 4110/4547 [19:26<02:34,  2.82it/s]Error fetching https://www.eeoc.gov/sites/default/files/2022-10/22-088_EEOC_KnowYourRights_10_20.pdf, skipping due to continue_on_failure=True\n",
      "Fetching pages:  91%|######### | 4117/4547 [19:27<02:00,  3.58it/s]Error fetching https://usf.campusdish.com/-/media/Local/Higher-Education/GroupC/SouthFlorida/Files/Menus/Isolation-Dining-Menu/Oct4-31-Tampa-Menu.ashx, skipping due to continue_on_failure=True\n",
      "Fetching pages:  92%|#########1| 4182/4547 [19:39<00:55,  6.63it/s]Error fetching https://www.usfsp.edu/student-outreach-and-support/food-pantry/ with attempt 1/3: Cannot connect to host www.usfsp.edu:443 ssl:True [SSLCertVerificationError: (1, '[SSL: CERTIFICATE_VERIFY_FAILED] certificate verify failed: certificate has expired (_ssl.c:1129)')]. Retrying...\n",
      "Error fetching https://www.usf.edu/student-affairs/student-health-services/documents/community-food-pantry-list-2021.pdf, skipping due to continue_on_failure=True\n",
      "Error fetching https://www.usfsp.edu/student-outreach-and-support/food-pantry/ with attempt 2/3: Cannot connect to host www.usfsp.edu:443 ssl:True [SSLCertVerificationError: (1, '[SSL: CERTIFICATE_VERIFY_FAILED] certificate verify failed: certificate has expired (_ssl.c:1129)')]. Retrying...\n",
      "Fetching pages:  92%|#########2| 4195/4547 [19:44<01:26,  4.08it/s]Error fetching https://www.usfsp.edu/student-outreach-and-support/food-pantry/, skipping due to continue_on_failure=True\n",
      "Error fetching https://usf.campusdish.com/-/media/Local/Higher-Education/GroupC/SouthFlorida/Files/Menus/Concession-Menus/Basketball-2022---TV-Screen-Clings---Bulls-Classics.ashx, skipping due to continue_on_failure=True\n",
      "Error fetching https://usf.campusdish.com/-/media/Local/Higher-Education/GroupC/SouthFlorida/Files/Menus/Concession-Menus/Basketball-2022---TV-Screen-Clings_813-Eats.ashx, skipping due to continue_on_failure=True\n",
      "Error fetching https://usf.campusdish.com/-/media/Local/Higher-Education/GroupC/SouthFlorida/Images/Maps/Yeungling-Center/Concessions-Basketball-Map-11-01-22.ashx, skipping due to continue_on_failure=True\n",
      "Fetching pages:  92%|#########2| 4200/4547 [19:47<01:52,  3.09it/s]Error fetching https://usf.campusdish.com/-/media/Local/Higher-Education/GroupC/SouthFlorida/Images/Maps/Yeungling-Center/YC-Concessions-Map---Concert-2022-01.ashx, skipping due to continue_on_failure=True\n",
      "Fetching pages:  99%|#########9| 4516/4547 [20:33<00:04,  6.70it/s]Error fetching https://usf.campusdish.com/-/media/Local/Higher-Education/GroupC/SouthFlorida/Files/Brochures/Fall-23-Spring-24---MP-Brochure.ashx, skipping due to continue_on_failure=True\n",
      "Fetching pages:  99%|#########9| 4524/4547 [20:35<00:04,  5.70it/s]Error fetching https://usf.campusdish.com/-/media/Local/Higher-Education/GroupC/SouthFlorida/Files/Fall-2023---HOO-Updated-combined.ashx, skipping due to continue_on_failure=True\n",
      "Error fetching https://usf.campusdish.com/-/media/Local/Higher-Education/GroupC/SouthFlorida/Files/Calendar-of-Events/September-2023-Calendar---Both-Campuses.ashx, skipping due to continue_on_failure=True\n",
      "Error fetching https://usf.campusdish.com/-/media/Local/Higher-Education/GroupC/SouthFlorida/Files/Food-truck-event-form-fillable.ashx, skipping due to continue_on_failure=True\n",
      "Error fetching https://usf.campusdish.com/-/media/Local/Higher-Education/GroupC/SouthFlorida/Images/Maps/Both-Campus-Maps.ashx, skipping due to continue_on_failure=True\n",
      "Fetching pages: 100%|#########9| 4543/4547 [20:40<00:00,  4.52it/s]Error fetching https://usf.campusdish.com/Meal-Plan-Terms-and-Conditions, skipping due to continue_on_failure=True\n",
      "Fetching pages: 100%|##########| 4547/4547 [20:41<00:00,  3.66it/s]\n",
      "/Users/hieunguyenminh/opt/anaconda3/lib/python3.9/site-packages/bs4/builder/__init__.py:545: XMLParsedAsHTMLWarning: It looks like you're parsing an XML document using an HTML parser. If this really is an HTML document (maybe it's XHTML?), you can ignore or filter this warning. If it's XML, you should know that using an XML parser will be more reliable. To parse this document as XML, make sure you have the lxml package installed, and pass the keyword argument `features=\"xml\"` into the BeautifulSoup constructor.\n",
      "  warnings.warn(\n"
     ]
    }
   ],
   "source": [
    "# loader = UnstructuredURLLoader(urls=urls)\n",
    "loader = WebBaseLoader(urls, continue_on_failure=True)\n",
    "loader.verify_ssl = False\n",
    "data = loader.aload()"
   ]
  },
  {
   "cell_type": "code",
   "execution_count": 34,
   "metadata": {},
   "outputs": [],
   "source": [
    "data_json = [doc.to_json() for doc in data]\n",
    "data_json_List = []\n",
    "for doc in data_json:\n",
    "    data_json_List.append(doc['kwargs'])"
   ]
  },
  {
   "cell_type": "code",
   "execution_count": 33,
   "metadata": {},
   "outputs": [
    {
     "name": "stderr",
     "output_type": "stream",
     "text": [
      "Error fetching http://eds.b.ebscohost.com/eds/results?vid=0&sdb=edspub&tid=3000EP%20&bquery=JN+I*+OR+JN+THE+I*+OR+JN+DER+I*+OR+JN+DIE+I*+OR+JN+DAS+I*+OR+JN+LAS+I*+OR+JN+LOS+I*+OR+JN+LES+I*+OR+JN+EL+I*+OR+JN+IL+I*+OR+JN+LA+I*+OR+JN+LE+I*&bdata=JmRiPWVkc3B1YiZ0eXBlPTEmc2l0ZT1lZHMtbGl2ZQ%3d%3d with attempt 2/3: Cannot connect to host eds.b.ebscohost.com:80 ssl:default [Connect call failed ('140.234.254.36', 80)]. Retrying...\n",
      "Error fetching http://eds.b.ebscohost.com/eds/results?vid=0&sdb=edspub&tid=3000EP%20&bquery=JN+H*+OR+JN+THE+H*+OR+JN+DER+H*+OR+JN+DIE+H*+OR+JN+DAS+H*+OR+JN+LAS+H*+OR+JN+LOS+H*+OR+JN+LES+H*+OR+JN+EL+H*+OR+JN+IL+H*+OR+JN+LA+H*+OR+JN+LE+H*&bdata=JmRiPWVkc3B1YiZ0eXBlPTEmc2l0ZT1lZHMtbGl2ZQ%3d%3d with attempt 2/3: Cannot connect to host eds.b.ebscohost.com:80 ssl:default [Connect call failed ('140.234.254.36', 80)]. Retrying...\n",
      "Error fetching http://eds.b.ebscohost.com/eds/results?vid=0&sdb=edspub&tid=3000EP%20&bquery=JN+I*+OR+JN+THE+I*+OR+JN+DER+I*+OR+JN+DIE+I*+OR+JN+DAS+I*+OR+JN+LAS+I*+OR+JN+LOS+I*+OR+JN+LES+I*+OR+JN+EL+I*+OR+JN+IL+I*+OR+JN+LA+I*+OR+JN+LE+I*&bdata=JmRiPWVkc3B1YiZ0eXBlPTEmc2l0ZT1lZHMtbGl2ZQ%3d%3d, skipping due to continue_on_failure=True\n",
      "Error fetching http://eds.b.ebscohost.com/eds/results?vid=0&sdb=edspub&tid=3000EP%20&bquery=JN+H*+OR+JN+THE+H*+OR+JN+DER+H*+OR+JN+DIE+H*+OR+JN+DAS+H*+OR+JN+LAS+H*+OR+JN+LOS+H*+OR+JN+LES+H*+OR+JN+EL+H*+OR+JN+IL+H*+OR+JN+LA+H*+OR+JN+LE+H*&bdata=JmRiPWVkc3B1YiZ0eXBlPTEmc2l0ZT1lZHMtbGl2ZQ%3d%3d, skipping due to continue_on_failure=True\n",
      "Error fetching http://eds.b.ebscohost.com/eds/results?vid=0&sdb=edspub&tid=3000EP%20&bquery=JN+J*+OR+JN+THE+J*+OR+JN+DER+J*+OR+JN+DIE+J*+OR+JN+DAS+J*+OR+JN+LAS+J*+OR+JN+LOS+J*+OR+JN+LES+J*+OR+JN+EL+J*+OR+JN+IL+J*+OR+JN+LA+J*+OR+JN+LE+J*&bdata=JmRiPWVkc3B1YiZ0eXBlPTEmc2l0ZT1lZHMtbGl2ZQ%3d%3d with attempt 1/3: Cannot connect to host eds.b.ebscohost.com:80 ssl:default [Connect call failed ('140.234.254.36', 80)]. Retrying...\n",
      "Error fetching http://eds.b.ebscohost.com/eds/results?vid=0&sdb=edspub&tid=3000EP%20&bquery=JN+K*+OR+JN+THE+K*+OR+JN+DER+K*+OR+JN+DIE+K*+OR+JN+DAS+K*+OR+JN+LAS+K*+OR+JN+LOS+K*+OR+JN+LES+K*+OR+JN+EL+K*+OR+JN+IL+K*+OR+JN+LA+K*+OR+JN+LE+K*&bdata=JmRiPWVkc3B1YiZ0eXBlPTEmc2l0ZT1lZHMtbGl2ZQ%3d%3d with attempt 1/3: Cannot connect to host eds.b.ebscohost.com:80 ssl:default [Connect call failed ('140.234.254.36', 80)]. Retrying...\n",
      "Error fetching http://eds.b.ebscohost.com/eds/results?vid=0&sdb=edspub&tid=3000EP%20&bquery=JN+J*+OR+JN+THE+J*+OR+JN+DER+J*+OR+JN+DIE+J*+OR+JN+DAS+J*+OR+JN+LAS+J*+OR+JN+LOS+J*+OR+JN+LES+J*+OR+JN+EL+J*+OR+JN+IL+J*+OR+JN+LA+J*+OR+JN+LE+J*&bdata=JmRiPWVkc3B1YiZ0eXBlPTEmc2l0ZT1lZHMtbGl2ZQ%3d%3d with attempt 2/3: Cannot connect to host eds.b.ebscohost.com:80 ssl:default [Connect call failed ('140.234.254.36', 80)]. Retrying...\n",
      "Error fetching http://eds.b.ebscohost.com/eds/results?vid=0&sdb=edspub&tid=3000EP%20&bquery=JN+K*+OR+JN+THE+K*+OR+JN+DER+K*+OR+JN+DIE+K*+OR+JN+DAS+K*+OR+JN+LAS+K*+OR+JN+LOS+K*+OR+JN+LES+K*+OR+JN+EL+K*+OR+JN+IL+K*+OR+JN+LA+K*+OR+JN+LE+K*&bdata=JmRiPWVkc3B1YiZ0eXBlPTEmc2l0ZT1lZHMtbGl2ZQ%3d%3d with attempt 2/3: Cannot connect to host eds.b.ebscohost.com:80 ssl:default [Connect call failed ('140.234.254.36', 80)]. Retrying...\n",
      "Error fetching http://eds.b.ebscohost.com/eds/results?vid=0&sdb=edspub&tid=3000EP%20&bquery=JN+J*+OR+JN+THE+J*+OR+JN+DER+J*+OR+JN+DIE+J*+OR+JN+DAS+J*+OR+JN+LAS+J*+OR+JN+LOS+J*+OR+JN+LES+J*+OR+JN+EL+J*+OR+JN+IL+J*+OR+JN+LA+J*+OR+JN+LE+J*&bdata=JmRiPWVkc3B1YiZ0eXBlPTEmc2l0ZT1lZHMtbGl2ZQ%3d%3d, skipping due to continue_on_failure=True\n",
      "Error fetching http://eds.b.ebscohost.com/eds/results?vid=0&sdb=edspub&tid=3000EP%20&bquery=JN+K*+OR+JN+THE+K*+OR+JN+DER+K*+OR+JN+DIE+K*+OR+JN+DAS+K*+OR+JN+LAS+K*+OR+JN+LOS+K*+OR+JN+LES+K*+OR+JN+EL+K*+OR+JN+IL+K*+OR+JN+LA+K*+OR+JN+LE+K*&bdata=JmRiPWVkc3B1YiZ0eXBlPTEmc2l0ZT1lZHMtbGl2ZQ%3d%3d, skipping due to continue_on_failure=True\n"
     ]
    }
   ],
   "source": [
    "import json\n",
    "\n",
    "# Save to JSON\n",
    "with open('data.json', 'w') as f:\n",
    "    json.dump(data_json_List, f)"
   ]
  },
  {
   "cell_type": "code",
   "execution_count": 3,
   "metadata": {},
   "outputs": [],
   "source": [
    "import json\n",
    "with open('data.json', 'r') as f:\n",
    "    data_json_open = json.load(f)"
   ]
  },
  {
   "cell_type": "code",
   "execution_count": 10,
   "metadata": {},
   "outputs": [],
   "source": [
    "for data in data_json_open:\n",
    "    if 'language' in data['metadata']:\n",
    "        del data['metadata']['language']"
   ]
  },
  {
   "cell_type": "code",
   "execution_count": 18,
   "metadata": {},
   "outputs": [],
   "source": [
    "for data in data_json_open:\n",
    "    if 'description' in data['metadata']:\n",
    "        data['page_content'] = 'Description: ' + data['metadata']['description'] + 'Page Content: ' + data['page_content']\n"
   ]
  },
  {
   "cell_type": "code",
   "execution_count": 21,
   "metadata": {},
   "outputs": [],
   "source": [
    "for data in data_json_open:\n",
    "    if 'description' in data['metadata']:\n",
    "        del data['metadata']['description']"
   ]
  }
 ],
 "metadata": {
  "kernelspec": {
   "display_name": "Python 3",
   "language": "python",
   "name": "python3"
  },
  "language_info": {
   "codemirror_mode": {
    "name": "ipython",
    "version": 3
   },
   "file_extension": ".py",
   "mimetype": "text/x-python",
   "name": "python",
   "nbconvert_exporter": "python",
   "pygments_lexer": "ipython3",
   "version": "3.9.13"
  },
  "orig_nbformat": 4
 },
 "nbformat": 4,
 "nbformat_minor": 2
}
