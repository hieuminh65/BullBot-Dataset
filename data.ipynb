{
 "cells": [
  {
   "cell_type": "code",
   "execution_count": 32,
   "id": "30a371e5",
   "metadata": {},
   "outputs": [
    {
     "name": "stdout",
     "output_type": "stream",
     "text": [
      "Length of Updated Data: 3786\n"
     ]
    }
   ],
   "source": [
    "import json\n",
    "import re\n",
    "\n",
    "input_file = 'raw_data.json'\n",
    "output_file = 'filtered_data.json'\n",
    "\n",
    "patterns = [\n",
    "    (r'\\n+', '\\n'),     # Replace more than one consecutive newlines with a single newline\n",
    "    (r'\\t+', '\\t'),     # Replace consecutive tabs with a single tab\n",
    "    (r' +', ' '),       # Replace consecutive spaces with a single space\n",
    "]\n",
    "\n",
    "# Function to clean page content\n",
    "def clean_page_content(page_content):\n",
    "    for pattern, replacement in patterns:\n",
    "        page_content = re.sub(pattern, replacement, page_content)\n",
    "\n",
    "    return page_content.strip()  # Strip spaces\n",
    "\n",
    "# Function to filter and clean data\n",
    "def filter_and_clean_data(input_file, output_file):\n",
    "    invalid_keywords = ['youtube', 'instagram', 'facebook', 'twitter', 'fyp365', 'title2', 'sacscoc', 'google', 'secure', 'nam04']\n",
    "    valid_items = ['usf'] \n",
    "\n",
    "    with open(input_file) as f:\n",
    "        data = json.load(f)\n",
    "\n",
    "    data = [item for item in data if 'page_content' not in item or not any(keyword in item['metadata']['source'] for keyword in invalid_keywords) and all(valid_item in item['metadata']['source'].split('/')[2] for valid_item in valid_items)]\n",
    "    \n",
    "    for item in data:\n",
    "        if 'page_content' in item:\n",
    "            item['page_content'] = clean_page_content(item['page_content'])\n",
    "\n",
    "    with open(output_file, 'w') as f:\n",
    "        json.dump(data, f, ensure_ascii=False, indent=4)\n",
    "\n",
    "    print(\"Length of Updated Data:\", len(data))\n",
    "\n",
    "if __name__ == \"__main__\":\n",
    "    filter_and_clean_data(input_file, output_file)\n"
   ]
  }
 ],
 "metadata": {
  "kernelspec": {
   "display_name": "Python 3 (ipykernel)",
   "language": "python",
   "name": "python3"
  },
  "language_info": {
   "codemirror_mode": {
    "name": "ipython",
    "version": 3
   },
   "file_extension": ".py",
   "mimetype": "text/x-python",
   "name": "python",
   "nbconvert_exporter": "python",
   "pygments_lexer": "ipython3",
   "version": "3.9.6"
  }
 },
 "nbformat": 4,
 "nbformat_minor": 5
}
